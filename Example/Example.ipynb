{
 "cells": [
  {
   "cell_type": "markdown",
   "metadata": {},
   "source": [
    "## installing"
   ]
  },
  {
   "cell_type": "code",
   "execution_count": null,
   "metadata": {},
   "outputs": [],
   "source": [
    "pip install tse-option"
   ]
  },
  {
   "cell_type": "markdown",
   "metadata": {},
   "source": [
    "## importing"
   ]
  },
  {
   "cell_type": "code",
   "execution_count": 1,
   "metadata": {},
   "outputs": [],
   "source": [
    "import tse_option as tso"
   ]
  },
  {
   "cell_type": "markdown",
   "metadata": {},
   "source": [
    "## using (1)\n",
    "با استفاده از تابع زیر، تمامی اختیار معامله های موجود روی سهم مورد نظر شما در خروجی نمایش داده می شود.\n",
    "#### اختیار معامله های موجود روی سهم خساپا 1401/9/9"
   ]
  },
  {
   "cell_type": "code",
   "execution_count": 2,
   "metadata": {},
   "outputs": [
    {
     "name": "stdout",
     "output_type": "stream",
     "text": [
      "Stock Price: 2032 \tRiskFreeRate: 25.78% \tHV: 38.16%\n"
     ]
    },
    {
     "data": {
      "text/html": [
       "<div>\n",
       "<style scoped>\n",
       "    .dataframe tbody tr th:only-of-type {\n",
       "        vertical-align: middle;\n",
       "    }\n",
       "\n",
       "    .dataframe tbody tr th {\n",
       "        vertical-align: top;\n",
       "    }\n",
       "\n",
       "    .dataframe thead th {\n",
       "        text-align: right;\n",
       "    }\n",
       "</style>\n",
       "<table border=\"1\" class=\"dataframe\">\n",
       "  <thead>\n",
       "    <tr style=\"text-align: right;\">\n",
       "      <th></th>\n",
       "      <th>Strike Price</th>\n",
       "      <th>Status</th>\n",
       "      <th>Maturity(day)</th>\n",
       "      <th>Open Interest</th>\n",
       "      <th>Bid</th>\n",
       "      <th>Ask</th>\n",
       "      <th>Delta</th>\n",
       "      <th>IV</th>\n",
       "      <th>Leverage</th>\n",
       "      <th>BSM</th>\n",
       "    </tr>\n",
       "    <tr>\n",
       "      <th>Symbol</th>\n",
       "      <th></th>\n",
       "      <th></th>\n",
       "      <th></th>\n",
       "      <th></th>\n",
       "      <th></th>\n",
       "      <th></th>\n",
       "      <th></th>\n",
       "      <th></th>\n",
       "      <th></th>\n",
       "      <th></th>\n",
       "    </tr>\n",
       "  </thead>\n",
       "  <tbody>\n",
       "    <tr>\n",
       "      <th>ضسپا12111</th>\n",
       "      <td>3250</td>\n",
       "      <td>OTM</td>\n",
       "      <td>91</td>\n",
       "      <td>0</td>\n",
       "      <td>102</td>\n",
       "      <td>103</td>\n",
       "      <td>0.02</td>\n",
       "      <td>%87.0</td>\n",
       "      <td>0.39</td>\n",
       "      <td>3</td>\n",
       "    </tr>\n",
       "    <tr>\n",
       "      <th>ضسپا12131</th>\n",
       "      <td>1300</td>\n",
       "      <td>ITM</td>\n",
       "      <td>91</td>\n",
       "      <td>0</td>\n",
       "      <td>0</td>\n",
       "      <td>0</td>\n",
       "      <td>1.0</td>\n",
       "      <td>%-</td>\n",
       "      <td>inf</td>\n",
       "      <td>814</td>\n",
       "    </tr>\n",
       "    <tr>\n",
       "      <th>ضسپا12121</th>\n",
       "      <td>1200</td>\n",
       "      <td>ITM</td>\n",
       "      <td>91</td>\n",
       "      <td>0</td>\n",
       "      <td>200</td>\n",
       "      <td>0</td>\n",
       "      <td>1.0</td>\n",
       "      <td>%-</td>\n",
       "      <td>inf</td>\n",
       "      <td>908</td>\n",
       "    </tr>\n",
       "    <tr>\n",
       "      <th>ضسپا12141</th>\n",
       "      <td>1400</td>\n",
       "      <td>ITM</td>\n",
       "      <td>91</td>\n",
       "      <td>0</td>\n",
       "      <td>750</td>\n",
       "      <td>840</td>\n",
       "      <td>0.99</td>\n",
       "      <td>%115.1</td>\n",
       "      <td>2.39</td>\n",
       "      <td>722</td>\n",
       "    </tr>\n",
       "    <tr>\n",
       "      <th>ضسپا12021</th>\n",
       "      <td>1700</td>\n",
       "      <td>ITM</td>\n",
       "      <td>91</td>\n",
       "      <td>0</td>\n",
       "      <td>490</td>\n",
       "      <td>575</td>\n",
       "      <td>0.91</td>\n",
       "      <td>%85.4</td>\n",
       "      <td>3.22</td>\n",
       "      <td>456</td>\n",
       "    </tr>\n",
       "  </tbody>\n",
       "</table>\n",
       "</div>"
      ],
      "text/plain": [
       "          Strike Price Status Maturity(day) Open Interest  Bid  Ask Delta  \\\n",
       "Symbol                                                                      \n",
       "ضسپا12111         3250    OTM            91             0  102  103  0.02   \n",
       "ضسپا12131         1300    ITM            91             0    0    0   1.0   \n",
       "ضسپا12121         1200    ITM            91             0  200    0   1.0   \n",
       "ضسپا12141         1400    ITM            91             0  750  840  0.99   \n",
       "ضسپا12021         1700    ITM            91             0  490  575  0.91   \n",
       "\n",
       "               IV Leverage  BSM  \n",
       "Symbol                           \n",
       "ضسپا12111   %87.0     0.39    3  \n",
       "ضسپا12131      %-      inf  814  \n",
       "ضسپا12121      %-      inf  908  \n",
       "ضسپا12141  %115.1     2.39  722  \n",
       "ضسپا12021   %85.4     3.22  456  "
      ]
     },
     "execution_count": 2,
     "metadata": {},
     "output_type": "execute_result"
    }
   ],
   "source": [
    "df = tso.pricing_based_on_stock(stock_name=\"خساپا\", trading_days=100, IV=True, leverage=True, P_BSM=False, sort=\"Maturity\")\n",
    "df.head() #sorted by time to maturity"
   ]
  },
  {
   "cell_type": "code",
   "execution_count": 4,
   "metadata": {},
   "outputs": [
    {
     "name": "stdout",
     "output_type": "stream",
     "text": [
      "Stock Price: 2032 \tRiskFreeRate: 25.78% \tHV: 38.16%\n"
     ]
    },
    {
     "data": {
      "text/html": [
       "<div>\n",
       "<style scoped>\n",
       "    .dataframe tbody tr th:only-of-type {\n",
       "        vertical-align: middle;\n",
       "    }\n",
       "\n",
       "    .dataframe tbody tr th {\n",
       "        vertical-align: top;\n",
       "    }\n",
       "\n",
       "    .dataframe thead th {\n",
       "        text-align: right;\n",
       "    }\n",
       "</style>\n",
       "<table border=\"1\" class=\"dataframe\">\n",
       "  <thead>\n",
       "    <tr style=\"text-align: right;\">\n",
       "      <th></th>\n",
       "      <th>Strike Price</th>\n",
       "      <th>Status</th>\n",
       "      <th>Maturity(day)</th>\n",
       "      <th>Open Interest</th>\n",
       "      <th>Bid</th>\n",
       "      <th>Ask</th>\n",
       "      <th>Delta</th>\n",
       "      <th>IV</th>\n",
       "      <th>Leverage</th>\n",
       "      <th>BSM</th>\n",
       "    </tr>\n",
       "    <tr>\n",
       "      <th>Symbol</th>\n",
       "      <th></th>\n",
       "      <th></th>\n",
       "      <th></th>\n",
       "      <th></th>\n",
       "      <th></th>\n",
       "      <th></th>\n",
       "      <th></th>\n",
       "      <th></th>\n",
       "      <th></th>\n",
       "      <th></th>\n",
       "    </tr>\n",
       "  </thead>\n",
       "  <tbody>\n",
       "    <tr>\n",
       "      <th>ضسپا12121</th>\n",
       "      <td>1200</td>\n",
       "      <td>ITM</td>\n",
       "      <td>91</td>\n",
       "      <td>0</td>\n",
       "      <td>200</td>\n",
       "      <td>0</td>\n",
       "      <td>1.0</td>\n",
       "      <td>%-</td>\n",
       "      <td>inf</td>\n",
       "      <td>908</td>\n",
       "    </tr>\n",
       "    <tr>\n",
       "      <th>ضسپا12131</th>\n",
       "      <td>1300</td>\n",
       "      <td>ITM</td>\n",
       "      <td>91</td>\n",
       "      <td>0</td>\n",
       "      <td>0</td>\n",
       "      <td>0</td>\n",
       "      <td>1.0</td>\n",
       "      <td>%-</td>\n",
       "      <td>inf</td>\n",
       "      <td>814</td>\n",
       "    </tr>\n",
       "    <tr>\n",
       "      <th>ضسپا30181</th>\n",
       "      <td>1400</td>\n",
       "      <td>ITM</td>\n",
       "      <td>196</td>\n",
       "      <td>0</td>\n",
       "      <td>300</td>\n",
       "      <td>0</td>\n",
       "      <td>0.98</td>\n",
       "      <td>%-</td>\n",
       "      <td>inf</td>\n",
       "      <td>821</td>\n",
       "    </tr>\n",
       "    <tr>\n",
       "      <th>ضسپا12141</th>\n",
       "      <td>1400</td>\n",
       "      <td>ITM</td>\n",
       "      <td>91</td>\n",
       "      <td>0</td>\n",
       "      <td>750</td>\n",
       "      <td>840</td>\n",
       "      <td>0.99</td>\n",
       "      <td>%115.1</td>\n",
       "      <td>2.39</td>\n",
       "      <td>722</td>\n",
       "    </tr>\n",
       "    <tr>\n",
       "      <th>ضسپا30191</th>\n",
       "      <td>1500</td>\n",
       "      <td>ITM</td>\n",
       "      <td>196</td>\n",
       "      <td>0</td>\n",
       "      <td>0</td>\n",
       "      <td>0</td>\n",
       "      <td>0.96</td>\n",
       "      <td>%-</td>\n",
       "      <td>inf</td>\n",
       "      <td>740</td>\n",
       "    </tr>\n",
       "  </tbody>\n",
       "</table>\n",
       "</div>"
      ],
      "text/plain": [
       "          Strike Price Status Maturity(day) Open Interest  Bid  Ask Delta  \\\n",
       "Symbol                                                                      \n",
       "ضسپا12121         1200    ITM            91             0  200    0   1.0   \n",
       "ضسپا12131         1300    ITM            91             0    0    0   1.0   \n",
       "ضسپا30181         1400    ITM           196             0  300    0  0.98   \n",
       "ضسپا12141         1400    ITM            91             0  750  840  0.99   \n",
       "ضسپا30191         1500    ITM           196             0    0    0  0.96   \n",
       "\n",
       "               IV Leverage  BSM  \n",
       "Symbol                           \n",
       "ضسپا12121      %-      inf  908  \n",
       "ضسپا12131      %-      inf  814  \n",
       "ضسپا30181      %-      inf  821  \n",
       "ضسپا12141  %115.1     2.39  722  \n",
       "ضسپا30191      %-      inf  740  "
      ]
     },
     "execution_count": 4,
     "metadata": {},
     "output_type": "execute_result"
    }
   ],
   "source": [
    "df = tso.pricing_based_on_stock(stock_name=\"خساپا\", trading_days=100, IV=True, leverage=True, P_BSM=False, sort=\"Strike Price\")\n",
    "df.head() #sorted by strike price"
   ]
  },
  {
   "cell_type": "markdown",
   "metadata": {},
   "source": [
    "علاوه بر موارد فوق می توان مرتب سازی را براساس تعداد موقعیت های باز هر اختیار معامله انجام داد"
   ]
  },
  {
   "cell_type": "markdown",
   "metadata": {},
   "source": [
    "همچنین می توان با تغییراتی در آرگومان های ورودی، نمایش برخی از ستون ها را غیرفعال کرد. این قابلیت برای ستون هایی همچون \"تلاطم ضمنی\"، \"اهرم\" و \"نسبت قیمت بازار به قیمت بلک-شولز\" وجود دارد."
   ]
  },
  {
   "cell_type": "code",
   "execution_count": 5,
   "metadata": {},
   "outputs": [],
   "source": [
    "#Strike Price = قیمت اعمال\n",
    "\n",
    "#Status = وضعیت در سود یا ضرر بودن اختیار معامله\n",
    "\n",
    "#Maturity(day) = زمان تا سررسید\n",
    "\n",
    "#Open Interest = تعداد موقعیت های باز\n",
    "\n",
    "#Bid = بهترین قیمت پیشنهادی برای خرید\n",
    "\n",
    "#Ask = بهترین قیمتم پیشنهادی برای فروش\n",
    "\n",
    "#Delta = دلتای اختیار معامله\n",
    "\n",
    "#IV = تلاطم ضمنی\n",
    "\n",
    "#Leverage = اهرم اختیار معامله\n",
    "\n",
    "#BSM = قیمت تئوری اختیار معامله براساس مدل بلک-شولز-مرتون\n",
    "\n",
    "#%Price/BSM = نسبت قیمت بازار به قیمت بلک-شولز -مرتون"
   ]
  },
  {
   "cell_type": "markdown",
   "metadata": {},
   "source": [
    "\n",
    "\n",
    "\n",
    "\n",
    "\n",
    "\n"
   ]
  },
  {
   "cell_type": "markdown",
   "metadata": {},
   "source": []
  },
  {
   "cell_type": "markdown",
   "metadata": {},
   "source": []
  },
  {
   "cell_type": "markdown",
   "metadata": {},
   "source": [
    "## using (2)"
   ]
  },
  {
   "cell_type": "markdown",
   "metadata": {},
   "source": [
    "با استفاده از تابع زیر، اطلاعات یک اختیار معامله خاص به شما نمایش داده می شود."
   ]
  },
  {
   "cell_type": "markdown",
   "metadata": {},
   "source": [
    "#### اطلاعات اختیار معامله ضسپا1205 1401/9/9"
   ]
  },
  {
   "cell_type": "code",
   "execution_count": 7,
   "metadata": {},
   "outputs": [
    {
     "name": "stdout",
     "output_type": "stream",
     "text": [
      "Stock Price: 2032\tRiskFreeRate: 25.79%\tHV: 38.16%\n"
     ]
    },
    {
     "data": {
      "text/html": [
       "<div>\n",
       "<style scoped>\n",
       "    .dataframe tbody tr th:only-of-type {\n",
       "        vertical-align: middle;\n",
       "    }\n",
       "\n",
       "    .dataframe tbody tr th {\n",
       "        vertical-align: top;\n",
       "    }\n",
       "\n",
       "    .dataframe thead th {\n",
       "        text-align: right;\n",
       "    }\n",
       "</style>\n",
       "<table border=\"1\" class=\"dataframe\">\n",
       "  <thead>\n",
       "    <tr style=\"text-align: right;\">\n",
       "      <th></th>\n",
       "      <th>Strike Price</th>\n",
       "      <th>Status</th>\n",
       "      <th>Maturity(day)</th>\n",
       "      <th>Open Interest</th>\n",
       "      <th>Bid</th>\n",
       "      <th>Ask</th>\n",
       "      <th>Delta</th>\n",
       "      <th>IV</th>\n",
       "      <th>BSM</th>\n",
       "      <th>%Price/BSM</th>\n",
       "    </tr>\n",
       "    <tr>\n",
       "      <th>Symbol</th>\n",
       "      <th></th>\n",
       "      <th></th>\n",
       "      <th></th>\n",
       "      <th></th>\n",
       "      <th></th>\n",
       "      <th></th>\n",
       "      <th></th>\n",
       "      <th></th>\n",
       "      <th></th>\n",
       "      <th></th>\n",
       "    </tr>\n",
       "  </thead>\n",
       "  <tbody>\n",
       "    <tr>\n",
       "      <th>ضسپا12051</th>\n",
       "      <td>2000</td>\n",
       "      <td>ATM</td>\n",
       "      <td>91</td>\n",
       "      <td>0</td>\n",
       "      <td>359</td>\n",
       "      <td>366</td>\n",
       "      <td>0.7</td>\n",
       "      <td>%71.9</td>\n",
       "      <td>241</td>\n",
       "      <td>%-51.9🔴</td>\n",
       "    </tr>\n",
       "  </tbody>\n",
       "</table>\n",
       "</div>"
      ],
      "text/plain": [
       "          Strike Price Status Maturity(day) Open Interest  Bid  Ask Delta  \\\n",
       "Symbol                                                                      \n",
       "ضسپا12051         2000    ATM            91             0  359  366   0.7   \n",
       "\n",
       "              IV  BSM %Price/BSM  \n",
       "Symbol                            \n",
       "ضسپا12051  %71.9  241    %-51.9🔴  "
      ]
     },
     "execution_count": 7,
     "metadata": {},
     "output_type": "execute_result"
    }
   ],
   "source": [
    "df = tso.pricing_based_on_option(option_name=\"ضسپا1205\", trading_days=100, IV=True, leverage=False, P_BSM=True)\n",
    "df"
   ]
  },
  {
   "cell_type": "markdown",
   "metadata": {},
   "source": [
    "ستون \"نسبت قیمت بازار به قیمت بلک-شولز\" بیانگر میزان overvalue یا undervalue بودن اختیار را نشان می دهد."
   ]
  },
  {
   "cell_type": "markdown",
   "metadata": {},
   "source": [
    "**توجه**: کلیه خروجی این ماژول از جمله قیمت گذاری و محاسبه تلاطم ضمنی و ... به جهت تسهیل در تصمیم گیری سرمایه گذاران است و هیچگونه پیشنهادی برای خرید یا فروش آن محسوب نمی شود."
   ]
  },
  {
   "cell_type": "markdown",
   "metadata": {},
   "source": []
  },
  {
   "cell_type": "markdown",
   "metadata": {},
   "source": []
  },
  {
   "cell_type": "markdown",
   "metadata": {},
   "source": []
  },
  {
   "attachments": {},
   "cell_type": "markdown",
   "metadata": {},
   "source": [
    "## using (3)"
   ]
  },
  {
   "attachments": {},
   "cell_type": "markdown",
   "metadata": {},
   "source": [
    "با استفاده از تابع زیر می توان تاریخچه نمادهای بازار بورس و فرابورس را دریافت کرد. لازم به یادآوری است که این تابع دارای قابلیت ارائه قیمت های تعدیل شده سهام را نیز هست."
   ]
  },
  {
   "attachments": {},
   "cell_type": "markdown",
   "metadata": {},
   "source": [
    "در صورتی که تمایل دارید، دیتافریم تاریخچه قیمت از را در بازه خاصی از تاریخ مشاهده کنید میتوانید همانند مثال های زیر عمل کنید.\n",
    "\n",
    "\n",
    "**نکته**: اگر تمایل دارید که از تاریخ جلالی جهت اسلایسینگ استفاده کنید لازم است که مقدار j_date را برابر True قرار دهید"
   ]
  },
  {
   "cell_type": "code",
   "execution_count": 2,
   "metadata": {},
   "outputs": [
    {
     "data": {
      "text/html": [
       "<div>\n",
       "<style scoped>\n",
       "    .dataframe tbody tr th:only-of-type {\n",
       "        vertical-align: middle;\n",
       "    }\n",
       "\n",
       "    .dataframe tbody tr th {\n",
       "        vertical-align: top;\n",
       "    }\n",
       "\n",
       "    .dataframe thead th {\n",
       "        text-align: right;\n",
       "    }\n",
       "</style>\n",
       "<table border=\"1\" class=\"dataframe\">\n",
       "  <thead>\n",
       "    <tr style=\"text-align: right;\">\n",
       "      <th></th>\n",
       "      <th>Open</th>\n",
       "      <th>High</th>\n",
       "      <th>Low</th>\n",
       "      <th>Close</th>\n",
       "      <th>Volume</th>\n",
       "      <th>JDate</th>\n",
       "    </tr>\n",
       "    <tr>\n",
       "      <th>Date</th>\n",
       "      <th></th>\n",
       "      <th></th>\n",
       "      <th></th>\n",
       "      <th></th>\n",
       "      <th></th>\n",
       "      <th></th>\n",
       "    </tr>\n",
       "  </thead>\n",
       "  <tbody>\n",
       "    <tr>\n",
       "      <th>2022-03-26</th>\n",
       "      <td>2517.0</td>\n",
       "      <td>2517.0</td>\n",
       "      <td>2400.0</td>\n",
       "      <td>2474.0</td>\n",
       "      <td>1216916657</td>\n",
       "      <td>1401-01-06 00:00:00</td>\n",
       "    </tr>\n",
       "    <tr>\n",
       "      <th>2022-03-27</th>\n",
       "      <td>2419.0</td>\n",
       "      <td>2580.0</td>\n",
       "      <td>2390.0</td>\n",
       "      <td>2506.0</td>\n",
       "      <td>1189151897</td>\n",
       "      <td>1401-01-07 00:00:00</td>\n",
       "    </tr>\n",
       "    <tr>\n",
       "      <th>2022-03-28</th>\n",
       "      <td>2450.0</td>\n",
       "      <td>2619.0</td>\n",
       "      <td>2441.0</td>\n",
       "      <td>2554.0</td>\n",
       "      <td>1172187240</td>\n",
       "      <td>1401-01-08 00:00:00</td>\n",
       "    </tr>\n",
       "    <tr>\n",
       "      <th>2022-03-29</th>\n",
       "      <td>2590.0</td>\n",
       "      <td>2600.0</td>\n",
       "      <td>2427.0</td>\n",
       "      <td>2459.0</td>\n",
       "      <td>1158765837</td>\n",
       "      <td>1401-01-09 00:00:00</td>\n",
       "    </tr>\n",
       "    <tr>\n",
       "      <th>2022-03-30</th>\n",
       "      <td>2400.0</td>\n",
       "      <td>2548.0</td>\n",
       "      <td>2375.0</td>\n",
       "      <td>2471.0</td>\n",
       "      <td>962901083</td>\n",
       "      <td>1401-01-10 00:00:00</td>\n",
       "    </tr>\n",
       "    <tr>\n",
       "      <th>...</th>\n",
       "      <td>...</td>\n",
       "      <td>...</td>\n",
       "      <td>...</td>\n",
       "      <td>...</td>\n",
       "      <td>...</td>\n",
       "      <td>...</td>\n",
       "    </tr>\n",
       "    <tr>\n",
       "      <th>2023-01-28</th>\n",
       "      <td>3080.0</td>\n",
       "      <td>3099.0</td>\n",
       "      <td>2922.0</td>\n",
       "      <td>2990.0</td>\n",
       "      <td>643534786</td>\n",
       "      <td>1401-11-08 00:00:00</td>\n",
       "    </tr>\n",
       "    <tr>\n",
       "      <th>2023-01-29</th>\n",
       "      <td>2951.0</td>\n",
       "      <td>2995.0</td>\n",
       "      <td>2841.0</td>\n",
       "      <td>2851.0</td>\n",
       "      <td>982553586</td>\n",
       "      <td>1401-11-09 00:00:00</td>\n",
       "    </tr>\n",
       "    <tr>\n",
       "      <th>2023-01-30</th>\n",
       "      <td>2850.0</td>\n",
       "      <td>2925.0</td>\n",
       "      <td>2757.0</td>\n",
       "      <td>2837.0</td>\n",
       "      <td>711228006</td>\n",
       "      <td>1401-11-10 00:00:00</td>\n",
       "    </tr>\n",
       "    <tr>\n",
       "      <th>2023-01-31</th>\n",
       "      <td>2898.0</td>\n",
       "      <td>2978.0</td>\n",
       "      <td>2850.0</td>\n",
       "      <td>2931.0</td>\n",
       "      <td>592015718</td>\n",
       "      <td>1401-11-11 00:00:00</td>\n",
       "    </tr>\n",
       "    <tr>\n",
       "      <th>2023-02-01</th>\n",
       "      <td>2980.0</td>\n",
       "      <td>2999.0</td>\n",
       "      <td>2877.0</td>\n",
       "      <td>2927.0</td>\n",
       "      <td>446735588</td>\n",
       "      <td>1401-11-12 00:00:00</td>\n",
       "    </tr>\n",
       "  </tbody>\n",
       "</table>\n",
       "<p>203 rows × 6 columns</p>\n",
       "</div>"
      ],
      "text/plain": [
       "              Open    High     Low   Close      Volume                JDate\n",
       "Date                                                                       \n",
       "2022-03-26  2517.0  2517.0  2400.0  2474.0  1216916657  1401-01-06 00:00:00\n",
       "2022-03-27  2419.0  2580.0  2390.0  2506.0  1189151897  1401-01-07 00:00:00\n",
       "2022-03-28  2450.0  2619.0  2441.0  2554.0  1172187240  1401-01-08 00:00:00\n",
       "2022-03-29  2590.0  2600.0  2427.0  2459.0  1158765837  1401-01-09 00:00:00\n",
       "2022-03-30  2400.0  2548.0  2375.0  2471.0   962901083  1401-01-10 00:00:00\n",
       "...            ...     ...     ...     ...         ...                  ...\n",
       "2023-01-28  3080.0  3099.0  2922.0  2990.0   643534786  1401-11-08 00:00:00\n",
       "2023-01-29  2951.0  2995.0  2841.0  2851.0   982553586  1401-11-09 00:00:00\n",
       "2023-01-30  2850.0  2925.0  2757.0  2837.0   711228006  1401-11-10 00:00:00\n",
       "2023-01-31  2898.0  2978.0  2850.0  2931.0   592015718  1401-11-11 00:00:00\n",
       "2023-02-01  2980.0  2999.0  2877.0  2927.0   446735588  1401-11-12 00:00:00\n",
       "\n",
       "[203 rows x 6 columns]"
      ]
     },
     "execution_count": 2,
     "metadata": {},
     "output_type": "execute_result"
    }
   ],
   "source": [
    "df = tso.download_history(symbol='خودرو', j_date=True, start=\"1401-01-01\")\n",
    "df"
   ]
  },
  {
   "cell_type": "code",
   "execution_count": 3,
   "metadata": {},
   "outputs": [
    {
     "data": {
      "text/html": [
       "<div>\n",
       "<style scoped>\n",
       "    .dataframe tbody tr th:only-of-type {\n",
       "        vertical-align: middle;\n",
       "    }\n",
       "\n",
       "    .dataframe tbody tr th {\n",
       "        vertical-align: top;\n",
       "    }\n",
       "\n",
       "    .dataframe thead th {\n",
       "        text-align: right;\n",
       "    }\n",
       "</style>\n",
       "<table border=\"1\" class=\"dataframe\">\n",
       "  <thead>\n",
       "    <tr style=\"text-align: right;\">\n",
       "      <th></th>\n",
       "      <th>Open</th>\n",
       "      <th>High</th>\n",
       "      <th>Low</th>\n",
       "      <th>Close</th>\n",
       "      <th>Volume</th>\n",
       "      <th>JDate</th>\n",
       "      <th>Adj Open</th>\n",
       "      <th>Adj High</th>\n",
       "      <th>Adj Low</th>\n",
       "      <th>Adj Close</th>\n",
       "    </tr>\n",
       "    <tr>\n",
       "      <th>Date</th>\n",
       "      <th></th>\n",
       "      <th></th>\n",
       "      <th></th>\n",
       "      <th></th>\n",
       "      <th></th>\n",
       "      <th></th>\n",
       "      <th></th>\n",
       "      <th></th>\n",
       "      <th></th>\n",
       "      <th></th>\n",
       "    </tr>\n",
       "  </thead>\n",
       "  <tbody>\n",
       "    <tr>\n",
       "      <th>2022-03-26</th>\n",
       "      <td>2517.0</td>\n",
       "      <td>2517.0</td>\n",
       "      <td>2400.0</td>\n",
       "      <td>2474.0</td>\n",
       "      <td>1216916657</td>\n",
       "      <td>1401-01-06 00:00:00</td>\n",
       "      <td>2517</td>\n",
       "      <td>2517</td>\n",
       "      <td>2400</td>\n",
       "      <td>2474</td>\n",
       "    </tr>\n",
       "    <tr>\n",
       "      <th>2022-03-27</th>\n",
       "      <td>2419.0</td>\n",
       "      <td>2580.0</td>\n",
       "      <td>2390.0</td>\n",
       "      <td>2506.0</td>\n",
       "      <td>1189151897</td>\n",
       "      <td>1401-01-07 00:00:00</td>\n",
       "      <td>2419</td>\n",
       "      <td>2580</td>\n",
       "      <td>2390</td>\n",
       "      <td>2506</td>\n",
       "    </tr>\n",
       "    <tr>\n",
       "      <th>2022-03-28</th>\n",
       "      <td>2450.0</td>\n",
       "      <td>2619.0</td>\n",
       "      <td>2441.0</td>\n",
       "      <td>2554.0</td>\n",
       "      <td>1172187240</td>\n",
       "      <td>1401-01-08 00:00:00</td>\n",
       "      <td>2450</td>\n",
       "      <td>2619</td>\n",
       "      <td>2441</td>\n",
       "      <td>2554</td>\n",
       "    </tr>\n",
       "    <tr>\n",
       "      <th>2022-03-29</th>\n",
       "      <td>2590.0</td>\n",
       "      <td>2600.0</td>\n",
       "      <td>2427.0</td>\n",
       "      <td>2459.0</td>\n",
       "      <td>1158765837</td>\n",
       "      <td>1401-01-09 00:00:00</td>\n",
       "      <td>2590</td>\n",
       "      <td>2600</td>\n",
       "      <td>2427</td>\n",
       "      <td>2459</td>\n",
       "    </tr>\n",
       "    <tr>\n",
       "      <th>2022-03-30</th>\n",
       "      <td>2400.0</td>\n",
       "      <td>2548.0</td>\n",
       "      <td>2375.0</td>\n",
       "      <td>2471.0</td>\n",
       "      <td>962901083</td>\n",
       "      <td>1401-01-10 00:00:00</td>\n",
       "      <td>2400</td>\n",
       "      <td>2548</td>\n",
       "      <td>2375</td>\n",
       "      <td>2471</td>\n",
       "    </tr>\n",
       "    <tr>\n",
       "      <th>...</th>\n",
       "      <td>...</td>\n",
       "      <td>...</td>\n",
       "      <td>...</td>\n",
       "      <td>...</td>\n",
       "      <td>...</td>\n",
       "      <td>...</td>\n",
       "      <td>...</td>\n",
       "      <td>...</td>\n",
       "      <td>...</td>\n",
       "      <td>...</td>\n",
       "    </tr>\n",
       "    <tr>\n",
       "      <th>2023-01-28</th>\n",
       "      <td>3080.0</td>\n",
       "      <td>3099.0</td>\n",
       "      <td>2922.0</td>\n",
       "      <td>2990.0</td>\n",
       "      <td>643534786</td>\n",
       "      <td>1401-11-08 00:00:00</td>\n",
       "      <td>3080</td>\n",
       "      <td>3099</td>\n",
       "      <td>2922</td>\n",
       "      <td>2990</td>\n",
       "    </tr>\n",
       "    <tr>\n",
       "      <th>2023-01-29</th>\n",
       "      <td>2951.0</td>\n",
       "      <td>2995.0</td>\n",
       "      <td>2841.0</td>\n",
       "      <td>2851.0</td>\n",
       "      <td>982553586</td>\n",
       "      <td>1401-11-09 00:00:00</td>\n",
       "      <td>2951</td>\n",
       "      <td>2995</td>\n",
       "      <td>2841</td>\n",
       "      <td>2851</td>\n",
       "    </tr>\n",
       "    <tr>\n",
       "      <th>2023-01-30</th>\n",
       "      <td>2850.0</td>\n",
       "      <td>2925.0</td>\n",
       "      <td>2757.0</td>\n",
       "      <td>2837.0</td>\n",
       "      <td>711228006</td>\n",
       "      <td>1401-11-10 00:00:00</td>\n",
       "      <td>2850</td>\n",
       "      <td>2925</td>\n",
       "      <td>2757</td>\n",
       "      <td>2837</td>\n",
       "    </tr>\n",
       "    <tr>\n",
       "      <th>2023-01-31</th>\n",
       "      <td>2898.0</td>\n",
       "      <td>2978.0</td>\n",
       "      <td>2850.0</td>\n",
       "      <td>2931.0</td>\n",
       "      <td>592015718</td>\n",
       "      <td>1401-11-11 00:00:00</td>\n",
       "      <td>2898</td>\n",
       "      <td>2978</td>\n",
       "      <td>2850</td>\n",
       "      <td>2931</td>\n",
       "    </tr>\n",
       "    <tr>\n",
       "      <th>2023-02-01</th>\n",
       "      <td>2980.0</td>\n",
       "      <td>2999.0</td>\n",
       "      <td>2877.0</td>\n",
       "      <td>2927.0</td>\n",
       "      <td>446735588</td>\n",
       "      <td>1401-11-12 00:00:00</td>\n",
       "      <td>2980</td>\n",
       "      <td>2999</td>\n",
       "      <td>2877</td>\n",
       "      <td>2927</td>\n",
       "    </tr>\n",
       "  </tbody>\n",
       "</table>\n",
       "<p>203 rows × 10 columns</p>\n",
       "</div>"
      ],
      "text/plain": [
       "              Open    High     Low   Close      Volume                JDate  \\\n",
       "Date                                                                          \n",
       "2022-03-26  2517.0  2517.0  2400.0  2474.0  1216916657  1401-01-06 00:00:00   \n",
       "2022-03-27  2419.0  2580.0  2390.0  2506.0  1189151897  1401-01-07 00:00:00   \n",
       "2022-03-28  2450.0  2619.0  2441.0  2554.0  1172187240  1401-01-08 00:00:00   \n",
       "2022-03-29  2590.0  2600.0  2427.0  2459.0  1158765837  1401-01-09 00:00:00   \n",
       "2022-03-30  2400.0  2548.0  2375.0  2471.0   962901083  1401-01-10 00:00:00   \n",
       "...            ...     ...     ...     ...         ...                  ...   \n",
       "2023-01-28  3080.0  3099.0  2922.0  2990.0   643534786  1401-11-08 00:00:00   \n",
       "2023-01-29  2951.0  2995.0  2841.0  2851.0   982553586  1401-11-09 00:00:00   \n",
       "2023-01-30  2850.0  2925.0  2757.0  2837.0   711228006  1401-11-10 00:00:00   \n",
       "2023-01-31  2898.0  2978.0  2850.0  2931.0   592015718  1401-11-11 00:00:00   \n",
       "2023-02-01  2980.0  2999.0  2877.0  2927.0   446735588  1401-11-12 00:00:00   \n",
       "\n",
       "            Adj Open  Adj High  Adj Low  Adj Close  \n",
       "Date                                                \n",
       "2022-03-26      2517      2517     2400       2474  \n",
       "2022-03-27      2419      2580     2390       2506  \n",
       "2022-03-28      2450      2619     2441       2554  \n",
       "2022-03-29      2590      2600     2427       2459  \n",
       "2022-03-30      2400      2548     2375       2471  \n",
       "...              ...       ...      ...        ...  \n",
       "2023-01-28      3080      3099     2922       2990  \n",
       "2023-01-29      2951      2995     2841       2851  \n",
       "2023-01-30      2850      2925     2757       2837  \n",
       "2023-01-31      2898      2978     2850       2931  \n",
       "2023-02-01      2980      2999     2877       2927  \n",
       "\n",
       "[203 rows x 10 columns]"
      ]
     },
     "execution_count": 3,
     "metadata": {},
     "output_type": "execute_result"
    }
   ],
   "source": [
    "df = tso.download_history(symbol='خودرو', j_date=True, start=\"1401-01-01\", adjust_price=True)\n",
    "df"
   ]
  },
  {
   "attachments": {},
   "cell_type": "markdown",
   "metadata": {},
   "source": [
    "### رسم نمودار شمعی براساس خروچی تابع download_history()"
   ]
  },
  {
   "cell_type": "code",
   "execution_count": null,
   "metadata": {},
   "outputs": [],
   "source": [
    "%pip install mplfinance"
   ]
  },
  {
   "cell_type": "code",
   "execution_count": 4,
   "metadata": {},
   "outputs": [],
   "source": [
    "import mplfinance as mpf"
   ]
  },
  {
   "attachments": {},
   "cell_type": "markdown",
   "metadata": {},
   "source": [
    "##### رسم نمودار تعدیل نشده"
   ]
  },
  {
   "cell_type": "code",
   "execution_count": 6,
   "metadata": {},
   "outputs": [
    {
     "data": {
      "image/png": "[encoded data removed]",
      "text/plain": [
       "<Figure size 800x575 with 2 Axes>"
      ]
     },
     "metadata": {},
     "output_type": "display_data"
    }
   ],
   "source": [
    "df = tso.download_history(\"شبریز\", j_date=True, start=\"1400-09-01\", end=\"1401-06-31\")\n",
    "mpf.plot(df, type='candle') #رسم نمودار تعدیل نشده"
   ]
  },
  {
   "attachments": {},
   "cell_type": "markdown",
   "metadata": {},
   "source": [
    "##### رسم نمودار تعدیل شده"
   ]
  },
  {
   "attachments": {},
   "cell_type": "markdown",
   "metadata": {},
   "source": [
    "برای رسم نمودار تعدیل شده با ماژول mplfinance می بایست علاوه بر فعال کردن خروجی تعدیل شده، مقدار drop_unadjusted را برابر True قرار داد"
   ]
  },
  {
   "cell_type": "code",
   "execution_count": 7,
   "metadata": {},
   "outputs": [
    {
     "data": {
      "image/png": "[encoded data removed]",
      "text/plain": [
       "<Figure size 800x575 with 2 Axes>"
      ]
     },
     "metadata": {},
     "output_type": "display_data"
    }
   ],
   "source": [
    "df = tso.download_history(\"شبریز\", j_date=True, start=\"1400-09-01\", end=\"1401-06-31\", adjust_price=True, drop_unadjusted=True)\n",
    "mpf.plot(df, type='candle') #رسم نمودار تعدیل شده"
   ]
  },
  {
   "attachments": {},
   "cell_type": "markdown",
   "metadata": {},
   "source": [
    "علاوه بر قابلیت دریافت تاریخچه سهام، شما می توانید تاریخچه قیمت اختیار معامله های مختلف را نیز دریافت کنید"
   ]
  },
  {
   "cell_type": "code",
   "execution_count": 8,
   "metadata": {},
   "outputs": [
    {
     "data": {
      "image/png": "[encoded data removed]",
      "text/plain": [
       "<Figure size 800x575 with 2 Axes>"
      ]
     },
     "metadata": {},
     "output_type": "display_data"
    }
   ],
   "source": [
    "df = tso.download_history(\"ضسپا1208\")\n",
    "mpf.plot(df, type='candle')"
   ]
  },
  {
   "cell_type": "code",
   "execution_count": null,
   "metadata": {},
   "outputs": [],
   "source": []
  }
 ],
 "metadata": {
  "kernelspec": {
   "display_name": "Python 3 (ipykernel)",
   "language": "python",
   "name": "python3"
  },
  "language_info": {
   "codemirror_mode": {
    "name": "ipython",
    "version": 3
   },
   "file_extension": ".py",
   "mimetype": "text/x-python",
   "name": "python",
   "nbconvert_exporter": "python",
   "pygments_lexer": "ipython3",
   "version": "3.9.7"
  },
  "vscode": {
   "interpreter": {
    "hash": "32c9606588cbdfeded472708dbd48ea32dfb4f3df36027835e59cb5a6addfe95"
   }
  }
 },
 "nbformat": 4,
 "nbformat_minor": 2
}
