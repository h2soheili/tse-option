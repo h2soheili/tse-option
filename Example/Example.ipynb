{
 "cells": [
  {
   "cell_type": "markdown",
   "metadata": {},
   "source": [
    "## installing"
   ]
  },
  {
   "cell_type": "code",
   "execution_count": null,
   "metadata": {},
   "outputs": [],
   "source": [
    "pip install tse-option"
   ]
  },
  {
   "cell_type": "markdown",
   "metadata": {},
   "source": [
    "## importing"
   ]
  },
  {
   "cell_type": "code",
   "execution_count": 1,
   "metadata": {},
   "outputs": [],
   "source": [
    "import tse_option as tso"
   ]
  },
  {
   "cell_type": "markdown",
   "metadata": {},
   "source": [
    "## using (1)\n",
    "با استفاده از تابع زیر، تمامی اختیار معامله های موجود روی سهم مورد نظر شما در خروجی نمایش داده می شود.\n",
    "#### اختیار معامله های موجود روی سهم خساپا 1401/9/9"
   ]
  },
  {
   "cell_type": "code",
   "execution_count": 2,
   "metadata": {},
   "outputs": [
    {
     "name": "stdout",
     "output_type": "stream",
     "text": [
      "Stock Price: 2032 \tRiskFreeRate: 25.78% \tHV: 38.16%\n"
     ]
    },
    {
     "data": {
      "text/html": [
       "<div>\n",
       "<style scoped>\n",
       "    .dataframe tbody tr th:only-of-type {\n",
       "        vertical-align: middle;\n",
       "    }\n",
       "\n",
       "    .dataframe tbody tr th {\n",
       "        vertical-align: top;\n",
       "    }\n",
       "\n",
       "    .dataframe thead th {\n",
       "        text-align: right;\n",
       "    }\n",
       "</style>\n",
       "<table border=\"1\" class=\"dataframe\">\n",
       "  <thead>\n",
       "    <tr style=\"text-align: right;\">\n",
       "      <th></th>\n",
       "      <th>Strike Price</th>\n",
       "      <th>Status</th>\n",
       "      <th>Maturity(day)</th>\n",
       "      <th>Open Interest</th>\n",
       "      <th>Bid</th>\n",
       "      <th>Ask</th>\n",
       "      <th>Delta</th>\n",
       "      <th>IV</th>\n",
       "      <th>Leverage</th>\n",
       "      <th>BSM</th>\n",
       "    </tr>\n",
       "    <tr>\n",
       "      <th>Symbol</th>\n",
       "      <th></th>\n",
       "      <th></th>\n",
       "      <th></th>\n",
       "      <th></th>\n",
       "      <th></th>\n",
       "      <th></th>\n",
       "      <th></th>\n",
       "      <th></th>\n",
       "      <th></th>\n",
       "      <th></th>\n",
       "    </tr>\n",
       "  </thead>\n",
       "  <tbody>\n",
       "    <tr>\n",
       "      <th>ضسپا12111</th>\n",
       "      <td>3250</td>\n",
       "      <td>OTM</td>\n",
       "      <td>91</td>\n",
       "      <td>0</td>\n",
       "      <td>102</td>\n",
       "      <td>103</td>\n",
       "      <td>0.02</td>\n",
       "      <td>%87.0</td>\n",
       "      <td>0.39</td>\n",
       "      <td>3</td>\n",
       "    </tr>\n",
       "    <tr>\n",
       "      <th>ضسپا12131</th>\n",
       "      <td>1300</td>\n",
       "      <td>ITM</td>\n",
       "      <td>91</td>\n",
       "      <td>0</td>\n",
       "      <td>0</td>\n",
       "      <td>0</td>\n",
       "      <td>1.0</td>\n",
       "      <td>%-</td>\n",
       "      <td>inf</td>\n",
       "      <td>814</td>\n",
       "    </tr>\n",
       "    <tr>\n",
       "      <th>ضسپا12121</th>\n",
       "      <td>1200</td>\n",
       "      <td>ITM</td>\n",
       "      <td>91</td>\n",
       "      <td>0</td>\n",
       "      <td>200</td>\n",
       "      <td>0</td>\n",
       "      <td>1.0</td>\n",
       "      <td>%-</td>\n",
       "      <td>inf</td>\n",
       "      <td>908</td>\n",
       "    </tr>\n",
       "    <tr>\n",
       "      <th>ضسپا12141</th>\n",
       "      <td>1400</td>\n",
       "      <td>ITM</td>\n",
       "      <td>91</td>\n",
       "      <td>0</td>\n",
       "      <td>750</td>\n",
       "      <td>840</td>\n",
       "      <td>0.99</td>\n",
       "      <td>%115.1</td>\n",
       "      <td>2.39</td>\n",
       "      <td>722</td>\n",
       "    </tr>\n",
       "    <tr>\n",
       "      <th>ضسپا12021</th>\n",
       "      <td>1700</td>\n",
       "      <td>ITM</td>\n",
       "      <td>91</td>\n",
       "      <td>0</td>\n",
       "      <td>490</td>\n",
       "      <td>575</td>\n",
       "      <td>0.91</td>\n",
       "      <td>%85.4</td>\n",
       "      <td>3.22</td>\n",
       "      <td>456</td>\n",
       "    </tr>\n",
       "  </tbody>\n",
       "</table>\n",
       "</div>"
      ],
      "text/plain": [
       "          Strike Price Status Maturity(day) Open Interest  Bid  Ask Delta  \\\n",
       "Symbol                                                                      \n",
       "ضسپا12111         3250    OTM            91             0  102  103  0.02   \n",
       "ضسپا12131         1300    ITM            91             0    0    0   1.0   \n",
       "ضسپا12121         1200    ITM            91             0  200    0   1.0   \n",
       "ضسپا12141         1400    ITM            91             0  750  840  0.99   \n",
       "ضسپا12021         1700    ITM            91             0  490  575  0.91   \n",
       "\n",
       "               IV Leverage  BSM  \n",
       "Symbol                           \n",
       "ضسپا12111   %87.0     0.39    3  \n",
       "ضسپا12131      %-      inf  814  \n",
       "ضسپا12121      %-      inf  908  \n",
       "ضسپا12141  %115.1     2.39  722  \n",
       "ضسپا12021   %85.4     3.22  456  "
      ]
     },
     "execution_count": 2,
     "metadata": {},
     "output_type": "execute_result"
    }
   ],
   "source": [
    "df = tso.pricing_based_on_stock(stock_name=\"خساپا\", trading_days=100, IV=True, leverage=True, P_BSM=False, sort=\"Maturity\")\n",
    "df.head() #sorted by time to maturity"
   ]
  },
  {
   "cell_type": "code",
   "execution_count": 4,
   "metadata": {},
   "outputs": [
    {
     "name": "stdout",
     "output_type": "stream",
     "text": [
      "Stock Price: 2032 \tRiskFreeRate: 25.78% \tHV: 38.16%\n"
     ]
    },
    {
     "data": {
      "text/html": [
       "<div>\n",
       "<style scoped>\n",
       "    .dataframe tbody tr th:only-of-type {\n",
       "        vertical-align: middle;\n",
       "    }\n",
       "\n",
       "    .dataframe tbody tr th {\n",
       "        vertical-align: top;\n",
       "    }\n",
       "\n",
       "    .dataframe thead th {\n",
       "        text-align: right;\n",
       "    }\n",
       "</style>\n",
       "<table border=\"1\" class=\"dataframe\">\n",
       "  <thead>\n",
       "    <tr style=\"text-align: right;\">\n",
       "      <th></th>\n",
       "      <th>Strike Price</th>\n",
       "      <th>Status</th>\n",
       "      <th>Maturity(day)</th>\n",
       "      <th>Open Interest</th>\n",
       "      <th>Bid</th>\n",
       "      <th>Ask</th>\n",
       "      <th>Delta</th>\n",
       "      <th>IV</th>\n",
       "      <th>Leverage</th>\n",
       "      <th>BSM</th>\n",
       "    </tr>\n",
       "    <tr>\n",
       "      <th>Symbol</th>\n",
       "      <th></th>\n",
       "      <th></th>\n",
       "      <th></th>\n",
       "      <th></th>\n",
       "      <th></th>\n",
       "      <th></th>\n",
       "      <th></th>\n",
       "      <th></th>\n",
       "      <th></th>\n",
       "      <th></th>\n",
       "    </tr>\n",
       "  </thead>\n",
       "  <tbody>\n",
       "    <tr>\n",
       "      <th>ضسپا12121</th>\n",
       "      <td>1200</td>\n",
       "      <td>ITM</td>\n",
       "      <td>91</td>\n",
       "      <td>0</td>\n",
       "      <td>200</td>\n",
       "      <td>0</td>\n",
       "      <td>1.0</td>\n",
       "      <td>%-</td>\n",
       "      <td>inf</td>\n",
       "      <td>908</td>\n",
       "    </tr>\n",
       "    <tr>\n",
       "      <th>ضسپا12131</th>\n",
       "      <td>1300</td>\n",
       "      <td>ITM</td>\n",
       "      <td>91</td>\n",
       "      <td>0</td>\n",
       "      <td>0</td>\n",
       "      <td>0</td>\n",
       "      <td>1.0</td>\n",
       "      <td>%-</td>\n",
       "      <td>inf</td>\n",
       "      <td>814</td>\n",
       "    </tr>\n",
       "    <tr>\n",
       "      <th>ضسپا30181</th>\n",
       "      <td>1400</td>\n",
       "      <td>ITM</td>\n",
       "      <td>196</td>\n",
       "      <td>0</td>\n",
       "      <td>300</td>\n",
       "      <td>0</td>\n",
       "      <td>0.98</td>\n",
       "      <td>%-</td>\n",
       "      <td>inf</td>\n",
       "      <td>821</td>\n",
       "    </tr>\n",
       "    <tr>\n",
       "      <th>ضسپا12141</th>\n",
       "      <td>1400</td>\n",
       "      <td>ITM</td>\n",
       "      <td>91</td>\n",
       "      <td>0</td>\n",
       "      <td>750</td>\n",
       "      <td>840</td>\n",
       "      <td>0.99</td>\n",
       "      <td>%115.1</td>\n",
       "      <td>2.39</td>\n",
       "      <td>722</td>\n",
       "    </tr>\n",
       "    <tr>\n",
       "      <th>ضسپا30191</th>\n",
       "      <td>1500</td>\n",
       "      <td>ITM</td>\n",
       "      <td>196</td>\n",
       "      <td>0</td>\n",
       "      <td>0</td>\n",
       "      <td>0</td>\n",
       "      <td>0.96</td>\n",
       "      <td>%-</td>\n",
       "      <td>inf</td>\n",
       "      <td>740</td>\n",
       "    </tr>\n",
       "  </tbody>\n",
       "</table>\n",
       "</div>"
      ],
      "text/plain": [
       "          Strike Price Status Maturity(day) Open Interest  Bid  Ask Delta  \\\n",
       "Symbol                                                                      \n",
       "ضسپا12121         1200    ITM            91             0  200    0   1.0   \n",
       "ضسپا12131         1300    ITM            91             0    0    0   1.0   \n",
       "ضسپا30181         1400    ITM           196             0  300    0  0.98   \n",
       "ضسپا12141         1400    ITM            91             0  750  840  0.99   \n",
       "ضسپا30191         1500    ITM           196             0    0    0  0.96   \n",
       "\n",
       "               IV Leverage  BSM  \n",
       "Symbol                           \n",
       "ضسپا12121      %-      inf  908  \n",
       "ضسپا12131      %-      inf  814  \n",
       "ضسپا30181      %-      inf  821  \n",
       "ضسپا12141  %115.1     2.39  722  \n",
       "ضسپا30191      %-      inf  740  "
      ]
     },
     "execution_count": 4,
     "metadata": {},
     "output_type": "execute_result"
    }
   ],
   "source": [
    "df = tso.pricing_based_on_stock(stock_name=\"خساپا\", trading_days=100, IV=True, leverage=True, P_BSM=False, sort=\"Strike Price\")\n",
    "df.head() #sorted by strike price"
   ]
  },
  {
   "cell_type": "markdown",
   "metadata": {},
   "source": [
    "علاوه بر موارد فوق می توان مرتب سازی را براساس تعداد موقعیت های باز هر اختیار معامله انجام داد"
   ]
  },
  {
   "cell_type": "markdown",
   "metadata": {},
   "source": [
    "همچنین می توان با تغییراتی در آرگومان های ورودی، نمایش برخی از ستون ها را غیرفعال کرد. این قابلیت برای ستون هایی همچون \"تلاطم ضمنی\"، \"اهرم\" و \"نسبت قیمت بازار به قیمت بلک-شولز\" وجود دارد."
   ]
  },
  {
   "cell_type": "code",
   "execution_count": 5,
   "metadata": {},
   "outputs": [],
   "source": [
    "#Strike Price = قیمت اعمال\n",
    "\n",
    "#Status = وضعیت در سود یا ضرر بودن اختیار معامله\n",
    "\n",
    "#Maturity(day) = زمان تا سررسید\n",
    "\n",
    "#Open Interest = تعداد موقعیت های باز\n",
    "\n",
    "#Bid = بهترین قیمت پیشنهادی برای خرید\n",
    "\n",
    "#Ask = بهترین قیمتم پیشنهادی برای فروش\n",
    "\n",
    "#Delta = دلتای اختیار معامله\n",
    "\n",
    "#IV = تلاطم ضمنی\n",
    "\n",
    "#Leverage = اهرم اختیار معامله\n",
    "\n",
    "#BSM = قیمت تئوری اختیار معامله براساس مدل بلک-شولز-مرتون\n",
    "\n",
    "#%Price/BSM = نسبت قیمت بازار به قیمت بلک-شولز -مرتون"
   ]
  },
  {
   "cell_type": "markdown",
   "metadata": {},
   "source": [
    "\n",
    "\n",
    "\n",
    "\n",
    "\n",
    "\n"
   ]
  },
  {
   "cell_type": "markdown",
   "metadata": {},
   "source": []
  },
  {
   "cell_type": "markdown",
   "metadata": {},
   "source": []
  },
  {
   "cell_type": "markdown",
   "metadata": {},
   "source": [
    "## using (2)"
   ]
  },
  {
   "cell_type": "markdown",
   "metadata": {},
   "source": [
    "با استفاده از تابع زیر، اطلاعات یک اختیار معامله خاص به شما نمایش داده می شود."
   ]
  },
  {
   "cell_type": "markdown",
   "metadata": {},
   "source": [
    "#### اطلاعات اختیار معامله ضسپا1205 1401/9/9"
   ]
  },
  {
   "cell_type": "code",
   "execution_count": 7,
   "metadata": {},
   "outputs": [
    {
     "name": "stdout",
     "output_type": "stream",
     "text": [
      "Stock Price: 2032\tRiskFreeRate: 25.79%\tHV: 38.16%\n"
     ]
    },
    {
     "data": {
      "text/html": [
       "<div>\n",
       "<style scoped>\n",
       "    .dataframe tbody tr th:only-of-type {\n",
       "        vertical-align: middle;\n",
       "    }\n",
       "\n",
       "    .dataframe tbody tr th {\n",
       "        vertical-align: top;\n",
       "    }\n",
       "\n",
       "    .dataframe thead th {\n",
       "        text-align: right;\n",
       "    }\n",
       "</style>\n",
       "<table border=\"1\" class=\"dataframe\">\n",
       "  <thead>\n",
       "    <tr style=\"text-align: right;\">\n",
       "      <th></th>\n",
       "      <th>Strike Price</th>\n",
       "      <th>Status</th>\n",
       "      <th>Maturity(day)</th>\n",
       "      <th>Open Interest</th>\n",
       "      <th>Bid</th>\n",
       "      <th>Ask</th>\n",
       "      <th>Delta</th>\n",
       "      <th>IV</th>\n",
       "      <th>BSM</th>\n",
       "      <th>%Price/BSM</th>\n",
       "    </tr>\n",
       "    <tr>\n",
       "      <th>Symbol</th>\n",
       "      <th></th>\n",
       "      <th></th>\n",
       "      <th></th>\n",
       "      <th></th>\n",
       "      <th></th>\n",
       "      <th></th>\n",
       "      <th></th>\n",
       "      <th></th>\n",
       "      <th></th>\n",
       "      <th></th>\n",
       "    </tr>\n",
       "  </thead>\n",
       "  <tbody>\n",
       "    <tr>\n",
       "      <th>ضسپا12051</th>\n",
       "      <td>2000</td>\n",
       "      <td>ATM</td>\n",
       "      <td>91</td>\n",
       "      <td>0</td>\n",
       "      <td>359</td>\n",
       "      <td>366</td>\n",
       "      <td>0.7</td>\n",
       "      <td>%71.9</td>\n",
       "      <td>241</td>\n",
       "      <td>%-51.9🔴</td>\n",
       "    </tr>\n",
       "  </tbody>\n",
       "</table>\n",
       "</div>"
      ],
      "text/plain": [
       "          Strike Price Status Maturity(day) Open Interest  Bid  Ask Delta  \\\n",
       "Symbol                                                                      \n",
       "ضسپا12051         2000    ATM            91             0  359  366   0.7   \n",
       "\n",
       "              IV  BSM %Price/BSM  \n",
       "Symbol                            \n",
       "ضسپا12051  %71.9  241    %-51.9🔴  "
      ]
     },
     "execution_count": 7,
     "metadata": {},
     "output_type": "execute_result"
    }
   ],
   "source": [
    "df = tso.pricing_based_on_option(option_name=\"ضسپا1205\", trading_days=100, IV=True, leverage=False, P_BSM=True)\n",
    "df"
   ]
  },
  {
   "cell_type": "markdown",
   "metadata": {},
   "source": [
    "ستون \"نسبت قیمت بازار به قیمت بلک-شولز\" بیانگر میزان overvalue یا undervalue بودن اختیار را نشان می دهد."
   ]
  },
  {
   "cell_type": "markdown",
   "metadata": {},
   "source": [
    "**توجه**: کلیه خروجی این ماژول از جمله قیمت گذاری و محاسبه تلاطم ضمنی و ... به جهت تسهیل در تصمیم گیری سرمایه گذاران است و هیچگونه پیشنهادی برای خرید یا فروش آن محسوب نمی شود."
   ]
  }
 ],
 "metadata": {
  "kernelspec": {
   "display_name": "Python 3 (ipykernel)",
   "language": "python",
   "name": "python3"
  },
  "language_info": {
   "codemirror_mode": {
    "name": "ipython",
    "version": 3
   },
   "file_extension": ".py",
   "mimetype": "text/x-python",
   "name": "python",
   "nbconvert_exporter": "python",
   "pygments_lexer": "ipython3",
   "version": "3.9.7"
  },
  "vscode": {
   "interpreter": {
    "hash": "32c9606588cbdfeded472708dbd48ea32dfb4f3df36027835e59cb5a6addfe95"
   }
  }
 },
 "nbformat": 4,
 "nbformat_minor": 2
}
